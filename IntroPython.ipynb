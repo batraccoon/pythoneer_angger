{
  "cells": [
    {
      "cell_type": "markdown",
      "metadata": {
        "id": "0gYOHY9DFk4B"
      },
      "source": [
        "# Introduction to Python\n",
        "\n",
        "- Variable\n",
        "- Data Type Primary\n",
        "  - Number\n",
        "    - Integer\n",
        "    - Float\n",
        "  - String\n",
        "  - Boolean\n",
        "- Data Type Array (Collections of Data)\n",
        "  - List\n",
        "  - Tuple\n",
        "  - Dictionary\n",
        "  - Set\n",
        "- Operation\n"
      ]
    },
    {
      "cell_type": "markdown",
      "metadata": {
        "id": "hOxhspEjsMB3"
      },
      "source": [
        "---\n",
        "\n",
        "Nama :  Angger Rizky Firdaus  \n",
        "Batch :  HCK-012\n",
        "\n",
        "---"
      ]
    },
    {
      "cell_type": "code",
      "execution_count": 1,
      "metadata": {
        "colab": {
          "base_uri": "https://localhost:8080/"
        },
        "id": "GDFs8DJ5r3J7",
        "outputId": "68a6a7c8-01a2-48ad-fc45-2397013030a9"
      },
      "outputs": [
        {
          "name": "stdout",
          "output_type": "stream",
          "text": [
            "HELLO\n"
          ]
        }
      ],
      "source": [
        "# Run this block code\n",
        "# pagar ini untuk komen  sebuah syntax\n",
        "print(\"HELLO\")\n",
        "\n",
        "# print(\"WORLD\")"
      ]
    },
    {
      "cell_type": "markdown",
      "metadata": {
        "id": "dLKmJt2KJNDu"
      },
      "source": [
        "# Variable\n",
        "\n",
        "Rules dari membuat nama variable:\n",
        "- Dimulai dengan huruf\n",
        "- Perhatikan plural / singular jika dalam bahasa inggris\n",
        "- bisa camelCase, PascalCase, snake_case tidak kebab-case.\n",
        "\n",
        "\n",
        "Buatlah 3 variable yaitu:\n",
        "- variable name dan isi dengan namamu\n",
        "- variable favoriteNumber isi dengan angka kesukaanmu\n",
        "- variable isHungry dan isi True jika kamu lapar dann False jika kamu tidak lapar"
      ]
    },
    {
      "cell_type": "code",
      "execution_count": 2,
      "metadata": {
        "id": "vH5lUI0kqAxa"
      },
      "outputs": [],
      "source": [
        "# Code dibawah ini\n",
        "\n",
        "name = \"angger\"  \n",
        "favoriteNumber = 24  \n",
        "isHungry = False"
      ]
    },
    {
      "cell_type": "markdown",
      "metadata": {
        "id": "LP6QVd2HqZiR"
      },
      "source": [
        "# Data Type Primary"
      ]
    },
    {
      "cell_type": "markdown",
      "metadata": {
        "id": "ria_IrJ1qRpl"
      },
      "source": [
        "## Data Type Number\n",
        "\n",
        "Terdapat Integer dan Float"
      ]
    },
    {
      "cell_type": "code",
      "execution_count": 19,
      "metadata": {
        "id": "Yc19bHtfqQ-9"
      },
      "outputs": [
        {
          "name": "stdout",
          "output_type": "stream",
          "text": [
            "49.5\n",
            "<class 'float'>\n",
            "True\n",
            "False\n",
            "50\n",
            "49.5\n"
          ]
        }
      ],
      "source": [
        "# Latihan kode disini (Ikuti dalam kelas)\n",
        "\n",
        "# Integer = 12345 \n",
        "# float = 1,1 1,2 1,3 \n",
        "\n",
        "print(favoriteNumber)\n",
        "print(type(favoriteNumber))\n",
        "print(favoriteNumber==favoriteNumber) \n",
        "print(favoriteNumber==100)  # == equal, > >= < <= bigger/lower than , != not equal\n",
        "\n",
        "favoriteNumber= 50 # reassginment\n",
        "print(favoriteNumber)\n",
        "\n",
        "favoriteNumber = favoriteNumber + 5\n",
        "\n",
        "# favoriteNumber dikurangi 10%\n",
        "favoriteNumber = favoriteNumber - (favoriteNumber / 10)\n",
        "print(favoriteNumber)\n",
        "\n",
        "\n"
      ]
    },
    {
      "cell_type": "markdown",
      "metadata": {},
      "source": [
        "## Latihan Float"
      ]
    },
    {
      "cell_type": "code",
      "execution_count": 24,
      "metadata": {},
      "outputs": [
        {
          "name": "stdout",
          "output_type": "stream",
          "text": [
            "49.5\n",
            "<class 'float'>\n",
            "49\n",
            "1.5\n",
            "2.0\n",
            "3.1\n"
          ]
        }
      ],
      "source": [
        "print(favoriteNumber)\n",
        "print(type(favoriteNumber))\n",
        "print(int(favoriteNumber))\n",
        "\n",
        "Tigasetengah= 1.5\n",
        "print(Tigasetengah)\n",
        "\n",
        "Tigasetengah += 0.5\n",
        "print(Tigasetengah)\n",
        "\n",
        "\n",
        "phi = 3.14 #pembulatan\n",
        "print(round(phi,1))"
      ]
    },
    {
      "cell_type": "markdown",
      "metadata": {},
      "source": [
        "## Data Type String"
      ]
    },
    {
      "cell_type": "markdown",
      "metadata": {
        "id": "kN7khB5IqC7K"
      },
      "source": [
        "## Data Type String\n",
        "\n",
        "Peruntukannya untuk text dapat menggunakan kutip 1 atau 2 ' \""
      ]
    },
    {
      "cell_type": "code",
      "execution_count": 39,
      "metadata": {
        "id": "JErM3SdVFh9H"
      },
      "outputs": [
        {
          "name": "stdout",
          "output_type": "stream",
          "text": [
            "angger\n",
            "<class 'str'>\n",
            "6\n",
            "e\n",
            "angger rf39\n",
            "11\n",
            "a\n",
            "n\n",
            "9\n",
            "rizkyonel\n",
            "9\n"
          ]
        }
      ],
      "source": [
        "# Latihan kode disini (Ikuti dalam kelas)\n",
        "\n",
        "print(name)\n",
        "print(type(name)) #jenis data\n",
        "print(len(name)) #jumlah karakter \n",
        "\n",
        "# name +=str(5) = hasilnya angger5 \n",
        "# name += ' rizky firdaus' =hasilnya angger rizky firdaus\n",
        "print(name[4])\n",
        "\n",
        "# angka dengan string\n",
        "nama = \"angger rf\"\n",
        "nama +=str(39)\n",
        "print(nama)\n",
        "\n",
        "\n",
        "# len dengan ada spasi\n",
        "print(len(nama))\n",
        "\n",
        "# coba akses character pertama dan kedua\n",
        "print(nama[0])\n",
        "print(nama[1])\n",
        "\n",
        "boy = \"rizky\"\n",
        "girl = \"onel\"\n",
        "\n",
        "#cara 1\n",
        "print(len(boy) + len(girl))\n",
        "\n",
        "#cara 2\n",
        "gabungan = boy + girl\n",
        "print(gabungan)\n",
        "print(len(gabungan))"
      ]
    },
    {
      "cell_type": "code",
      "execution_count": 48,
      "metadata": {},
      "outputs": [
        {
          "name": "stdout",
          "output_type": "stream",
          "text": [
            "False\n",
            "False\n"
          ]
        }
      ],
      "source": [
        "print (1 == '1')\n",
        "print(\"Angger\" == \"AnGGeR\")\n",
        "\n",
        "# case senstitive"
      ]
    },
    {
      "cell_type": "code",
      "execution_count": 44,
      "metadata": {},
      "outputs": [
        {
          "name": "stdout",
          "output_type": "stream",
          "text": [
            "angger rf39\n",
            "ANGGER RF39\n",
            "Angger rf39\n",
            "angger rf39\n"
          ]
        }
      ],
      "source": [
        "print (nama) \n",
        "print (nama.upper())\n",
        "print(nama.capitalize())\n",
        "print(nama.lower())"
      ]
    },
    {
      "cell_type": "markdown",
      "metadata": {
        "id": "Wi4SejTIqb7o"
      },
      "source": [
        "## Data Type Boolean\n",
        "\n",
        "Yaitu True dan False"
      ]
    },
    {
      "cell_type": "code",
      "execution_count": 52,
      "metadata": {
        "id": "reRugMYIqhQ0"
      },
      "outputs": [
        {
          "name": "stdout",
          "output_type": "stream",
          "text": [
            "<class 'bool'>\n",
            "False bohong\n"
          ]
        }
      ],
      "source": [
        "# Latihan kode disini (Ikuti dalam kelas)\n",
        "# 1== true\n",
        "# 0 == false\n",
        "\n",
        "print(type(isHungry))\n",
        "print(str(isHungry)+ \" bohong\")\n"
      ]
    },
    {
      "cell_type": "code",
      "execution_count": 56,
      "metadata": {},
      "outputs": [
        {
          "name": "stdout",
          "output_type": "stream",
          "text": [
            "angger False 49.5\n",
            "Namaku angger, angka favoritku 49.5, sekarang aku sedang False.\n"
          ]
        },
        {
          "ename": "TypeError",
          "evalue": "can only concatenate str (not \"float\") to str",
          "output_type": "error",
          "traceback": [
            "\u001b[1;31m---------------------------------------------------------------------------\u001b[0m",
            "\u001b[1;31mTypeError\u001b[0m                                 Traceback (most recent call last)",
            "Cell \u001b[1;32mIn[56], line 3\u001b[0m\n\u001b[0;32m      1\u001b[0m \u001b[38;5;28mprint\u001b[39m(name, isHungry, favoriteNumber)\n\u001b[0;32m      2\u001b[0m \u001b[38;5;28mprint\u001b[39m(\u001b[38;5;124mf\u001b[39m\u001b[38;5;124m\"\u001b[39m\u001b[38;5;124mNamaku \u001b[39m\u001b[38;5;132;01m{\u001b[39;00mname\u001b[38;5;132;01m}\u001b[39;00m\u001b[38;5;124m, angka favoritku \u001b[39m\u001b[38;5;132;01m{\u001b[39;00mfavoriteNumber\u001b[38;5;132;01m}\u001b[39;00m\u001b[38;5;124m, sekarang aku sedang \u001b[39m\u001b[38;5;132;01m{\u001b[39;00misHungry\u001b[38;5;132;01m}\u001b[39;00m\u001b[38;5;124m.\u001b[39m\u001b[38;5;124m\"\u001b[39m)\n\u001b[1;32m----> 3\u001b[0m \u001b[38;5;28mprint\u001b[39m(\u001b[38;5;124m\"\u001b[39m\u001b[38;5;124mNamaku\u001b[39m\u001b[38;5;124m\"\u001b[39m\u001b[38;5;241m+\u001b[39m name \u001b[38;5;241m+\u001b[39m \u001b[38;5;124m\"\u001b[39m\u001b[38;5;124mangka favortiku\u001b[39m\u001b[38;5;124m\"\u001b[39m \u001b[38;5;241m+\u001b[39m favoriteNumber \u001b[38;5;241m+\u001b[39m \u001b[38;5;124m\"\u001b[39m\u001b[38;5;124msekarang aku sedang\u001b[39m\u001b[38;5;124m\"\u001b[39m \u001b[38;5;241m+\u001b[39m isHungry)\n",
            "\u001b[1;31mTypeError\u001b[0m: can only concatenate str (not \"float\") to str"
          ]
        }
      ],
      "source": [
        "print(name, isHungry, favoriteNumber)\n",
        "print(f\"Namaku {name}, angka favoritku {favoriteNumber}, sekarang aku sedang {isHungry}.\")\n",
        "print(\"Namaku\"+ name + \"angka favortiku\" + favoriteNumber + \"sekarang aku sedang\" + isHungry)\n"
      ]
    },
    {
      "cell_type": "markdown",
      "metadata": {
        "id": "jnEuh5gQqkzn"
      },
      "source": [
        "# Data Type Array / Data Type For Collections of Data\n",
        "\n",
        "Kalo w3school menyebutkannya sebagai [Python Collections (Arrays)](https://www.w3schools.com/python/python_lists.asp#:~:text=Python%20Collections%20(Arrays)).\n",
        "\n",
        "----- note disini latihan menggunakaan markdown text yaa..\n",
        "\n"
      ]
    },
    {
      "cell_type": "markdown",
      "metadata": {},
      "source": [
        "## List [ ]\n",
        "\n",
        "\n"
      ]
    },
    {
      "cell_type": "code",
      "execution_count": 73,
      "metadata": {},
      "outputs": [
        {
          "name": "stdout",
          "output_type": "stream",
          "text": [
            "<class 'list'>\n",
            "batman\n",
            "3\n",
            "['angger', 'batman', 'rizky']\n",
            "rizky\n",
            "rizky\n"
          ]
        }
      ],
      "source": [
        "kelompok = [\"angger\",\"rakun\",\"batman\"]\n",
        "print(type(kelompok))\n",
        "print(kelompok[2])\n",
        "#jumlah value/data/element dalam list\n",
        "print(len(kelompok))\n",
        "\n",
        "#hapus rakun\n",
        "kelompok.remove(\"rakun\")\n",
        "kelompok.append(\"rizky\")\n",
        "print(kelompok)\n",
        "\n",
        "#mengakses indeks terakhir\n",
        "#cara 1\n",
        "n = len(kelompok) - 1\n",
        "print(kelompok[n])\n",
        "#cara 2\n",
        "print(kelompok[-1])"
      ]
    },
    {
      "cell_type": "code",
      "execution_count": 75,
      "metadata": {},
      "outputs": [
        {
          "name": "stdout",
          "output_type": "stream",
          "text": [
            "[29, 39, 49]\n",
            "[29, 39, 49]\n",
            "[49, 39, 29]\n"
          ]
        }
      ],
      "source": [
        "angcan = [29,39,49]\n",
        "print(angcan)\n",
        "\n",
        "#default ascending\n",
        "angcan.sort()\n",
        "print(angcan)\n",
        "\n",
        "#descending \n",
        "angcan.sort(reverse=True)\n",
        "print(angcan)\n"
      ]
    },
    {
      "cell_type": "code",
      "execution_count": 76,
      "metadata": {},
      "outputs": [
        {
          "name": "stdout",
          "output_type": "stream",
          "text": [
            "['Yakult']\n"
          ]
        }
      ],
      "source": [
        "#pass reference\n",
        "#buat copy data tapi data awal ga ikutan\n",
        "\n",
        "bmMakanan= [\"ayam\",\"sate\",\"capcay\"]\n",
        "bmMinuman= [\"Yakult\"]\n",
        "bmMakanan==bmMinuman\n",
        "print(bmMinuman)\n",
        "\n"
      ]
    },
    {
      "cell_type": "code",
      "execution_count": 86,
      "metadata": {},
      "outputs": [
        {
          "name": "stdout",
          "output_type": "stream",
          "text": [
            "['ayam', 'sate', 'capcay', 'kue']\n",
            "['ayam', 'sate', 'capcay']\n",
            "['ayam']\n",
            "['ayam', 'sate', 'capcay']\n"
          ]
        }
      ],
      "source": [
        "#.copy() agar ketika copy, variable awal ga ikutan\n",
        "bmMinuman= bmMakanan.copy()\n",
        "bmMinuman.append(\"kue\")\n",
        "print(bmMinuman)\n",
        "print(bmMakanan)\n",
        "\n",
        "print(bmMakanan[0:1])\n",
        "print(bmMakanan[0:3])"
      ]
    },
    {
      "cell_type": "markdown",
      "metadata": {},
      "source": [
        "## Tupple"
      ]
    },
    {
      "cell_type": "code",
      "execution_count": 5,
      "metadata": {},
      "outputs": [
        {
          "name": "stdout",
          "output_type": "stream",
          "text": [
            "('batman', 'ant man', 'gundala')\n",
            "<class 'tuple'>\n",
            "3\n",
            "ant man\n"
          ]
        },
        {
          "data": {
            "text/plain": [
              "0"
            ]
          },
          "execution_count": 5,
          "metadata": {},
          "output_type": "execute_result"
        }
      ],
      "source": [
        "listJagoan = ('batman', 'ant man', 'gundala')\n",
        "print(listJagoan)\n",
        "print(type(listJagoan))\n",
        "print(len(listJagoan))\n",
        "print(listJagoan[1])\n",
        "listJagoan.index ('batman')\n",
        "\n",
        "#tidak bisa di tambahin (append/remove)"
      ]
    },
    {
      "cell_type": "markdown",
      "metadata": {},
      "source": [
        "## SET"
      ]
    },
    {
      "cell_type": "code",
      "execution_count": 89,
      "metadata": {},
      "outputs": [
        {
          "name": "stdout",
          "output_type": "stream",
          "text": [
            "{'nakal'}\n",
            "1\n",
            "<class 'set'>\n"
          ]
        }
      ],
      "source": [
        "listNakal = ('nakal','nakal','nakal')\n",
        "\n",
        "listNakal= set(listNakal)\n",
        "print(listNakal)\n",
        "print(len(listNakal))\n",
        "print(type(listNakal))\n"
      ]
    },
    {
      "cell_type": "markdown",
      "metadata": {},
      "source": [
        "## Dictionary { } \n",
        "\n",
        "keyname ; value"
      ]
    },
    {
      "cell_type": "code",
      "execution_count": 99,
      "metadata": {},
      "outputs": [
        {
          "name": "stdout",
          "output_type": "stream",
          "text": [
            "{'name': 'bubub', 'age': 1, 'weight': 4.5, 'heigh': 50}\n",
            "4\n",
            "bubub\n",
            "{'name': 'bubub', 'age': 1, 'weight': 4.5, 'heigh': 50, 'isVaksin': False}\n",
            "{'name': 'tokek', 'age': 1, 'weight': 4.5, 'heigh': 50, 'isVaksin': False}\n"
          ]
        }
      ],
      "source": [
        "persianCat={\n",
        "    'name': 'bubub',\n",
        "    'age' : 1,\n",
        "    'weight': 4.5,\n",
        "    'heigh' : 50 \n",
        "}\n",
        "\n",
        "print(persianCat)\n",
        "print(len(persianCat))\n",
        "\n",
        "#akses value dengan keyname (bukan index)\n",
        "print(persianCat['name'])\n",
        "\n",
        "persianCat['isVaksin']= False\n",
        "print(persianCat)\n",
        "\n",
        "#mengubah value(jika keyname sudah ada)\n",
        "persianCat['name'] = 'tokek'\n",
        "print(persianCat)\n",
        "\n"
      ]
    },
    {
      "cell_type": "markdown",
      "metadata": {},
      "source": [
        "## Exercise"
      ]
    },
    {
      "cell_type": "code",
      "execution_count": 3,
      "metadata": {},
      "outputs": [
        {
          "name": "stdout",
          "output_type": "stream",
          "text": [
            "[[0, 'ayu', 'bambang', 'wk'], [1, 'wwk', 'gwk', 'hwk'], [2, 'bwk', 'cwk', 'rwk', 'gwk']]\n",
            "hwk\n",
            "bwk\n"
          ]
        },
        {
          "ename": "TypeError",
          "evalue": "'builtin_function_or_method' object is not subscriptable",
          "output_type": "error",
          "traceback": [
            "\u001b[1;31m---------------------------------------------------------------------------\u001b[0m",
            "\u001b[1;31mTypeError\u001b[0m                                 Traceback (most recent call last)",
            "Cell \u001b[1;32mIn[3], line 11\u001b[0m\n\u001b[0;32m      9\u001b[0m \u001b[38;5;28mprint\u001b[39m(kumpulanHuruf [\u001b[38;5;241m1\u001b[39m][\u001b[38;5;241m3\u001b[39m])\n\u001b[0;32m     10\u001b[0m \u001b[38;5;28mprint\u001b[39m(kumpulanHuruf [\u001b[38;5;241m2\u001b[39m][\u001b[38;5;241m1\u001b[39m])\n\u001b[1;32m---> 11\u001b[0m kumpulanHuruf\u001b[38;5;241m.\u001b[39mindex[\u001b[38;5;124m'\u001b[39m\u001b[38;5;124mwwk\u001b[39m\u001b[38;5;124m'\u001b[39m]\n\u001b[0;32m     13\u001b[0m \u001b[38;5;66;03m# dictionary\u001b[39;00m\n\u001b[0;32m     14\u001b[0m listHCK12\u001b[38;5;241m=\u001b[39m{\n\u001b[0;32m     15\u001b[0m     \u001b[38;5;124m'\u001b[39m\u001b[38;5;124mstudents\u001b[39m\u001b[38;5;124m'\u001b[39m : [\u001b[38;5;124m'\u001b[39m\u001b[38;5;124mlala\u001b[39m\u001b[38;5;124m'\u001b[39m, \u001b[38;5;124m'\u001b[39m\u001b[38;5;124mlili\u001b[39m\u001b[38;5;124m'\u001b[39m, \u001b[38;5;124m'\u001b[39m\u001b[38;5;124mlulu\u001b[39m\u001b[38;5;124m'\u001b[39m, \u001b[38;5;124m'\u001b[39m\u001b[38;5;124mlolo\u001b[39m\u001b[38;5;124m'\u001b[39m],\n\u001b[0;32m     16\u001b[0m     \u001b[38;5;124m'\u001b[39m\u001b[38;5;124mbuddy\u001b[39m\u001b[38;5;124m'\u001b[39m : [\u001b[38;5;124m'\u001b[39m\u001b[38;5;124mayan\u001b[39m\u001b[38;5;124m'\u001b[39m,\u001b[38;5;124m'\u001b[39m\u001b[38;5;124mayam\u001b[39m\u001b[38;5;124m'\u001b[39m,\u001b[38;5;124m'\u001b[39m\u001b[38;5;124mayim\u001b[39m\u001b[38;5;124m'\u001b[39m,\u001b[38;5;124m'\u001b[39m\u001b[38;5;124mayum\u001b[39m\u001b[38;5;124m'\u001b[39m],\n\u001b[0;32m     17\u001b[0m     \u001b[38;5;124m'\u001b[39m\u001b[38;5;124mscores\u001b[39m\u001b[38;5;124m'\u001b[39m : [\u001b[38;5;241m100\u001b[39m, \u001b[38;5;241m30\u001b[39m, \u001b[38;5;241m50\u001b[39m, \u001b[38;5;241m90\u001b[39m]\n\u001b[0;32m     18\u001b[0m }\n",
            "\u001b[1;31mTypeError\u001b[0m: 'builtin_function_or_method' object is not subscriptable"
          ]
        }
      ],
      "source": [
        "# list\n",
        "kumpulanHuruf = [\n",
        "    [0,'ayu','bambang','wk'],\n",
        "    [1,'wwk','gwk','hwk'],\n",
        "    [2,'bwk','cwk','rwk','gwk']\n",
        "]\n",
        "\n",
        "print(kumpulanHuruf)\n",
        "print(kumpulanHuruf [1][3])\n",
        "print(kumpulanHuruf [2][1])\n",
        "\n",
        "\n",
        "# dictionary\n",
        "listHCK12={\n",
        "    'students' : ['lala', 'lili', 'lulu', 'lolo'],\n",
        "    'buddy' : ['ayan','ayam','ayim','ayum'],\n",
        "    'scores' : [100, 30, 50, 90]\n",
        "}\n",
        "\n",
        "print (listHCK12['students'][2], listHCK12['buddy'][2])\n",
        "print(listHCK12['scores'])\n",
        "print(max(listHCK12['scores']))\n",
        "print(min(listHCK12['scores']))"
      ]
    },
    {
      "cell_type": "code",
      "execution_count": 2,
      "metadata": {},
      "outputs": [
        {
          "ename": "SyntaxError",
          "evalue": "unterminated string literal (detected at line 2) (3782498034.py, line 2)",
          "output_type": "error",
          "traceback": [
            "\u001b[1;36m  Cell \u001b[1;32mIn[2], line 2\u001b[1;36m\u001b[0m\n\u001b[1;33m    print(f['angger','rizky,'firdaus'])\u001b[0m\n\u001b[1;37m                                    ^\u001b[0m\n\u001b[1;31mSyntaxError\u001b[0m\u001b[1;31m:\u001b[0m unterminated string literal (detected at line 2)\n"
          ]
        }
      ],
      "source": []
    }
  ],
  "metadata": {
    "colab": {
      "provenance": []
    },
    "kernelspec": {
      "display_name": "Python 3",
      "name": "python3"
    },
    "language_info": {
      "codemirror_mode": {
        "name": "ipython",
        "version": 3
      },
      "file_extension": ".py",
      "mimetype": "text/x-python",
      "name": "python",
      "nbconvert_exporter": "python",
      "pygments_lexer": "ipython3",
      "version": "3.11.5"
    }
  },
  "nbformat": 4,
  "nbformat_minor": 0
}
