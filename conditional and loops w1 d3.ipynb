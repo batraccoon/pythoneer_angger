{
 "cells": [
  {
   "cell_type": "markdown",
   "metadata": {},
   "source": [
    "# Conditionals and Loops"
   ]
  },
  {
   "cell_type": "markdown",
   "metadata": {},
   "source": [
    "## Conditionals"
   ]
  },
  {
   "cell_type": "markdown",
   "metadata": {},
   "source": [
    "### if"
   ]
  },
  {
   "cell_type": "markdown",
   "metadata": {},
   "source": [
    "Format:\n",
    "#expression gabungan dari operands (5/2/3/a/b) dan operator (+-/ == >= > < <= != =) = itu operator assignment kalo == itu operator comparison. kalo number 1 = 10 , 1== 10 beda\n",
    "```python\n",
    "if <expression>: \n",
    "    <body>\n",
    "```"
   ]
  },
  {
   "cell_type": "markdown",
   "metadata": {},
   "source": [
    "a **body** consist of one or more statements that will run when the expression is `True`"
   ]
  },
  {
   "cell_type": "code",
   "execution_count": 7,
   "metadata": {},
   "outputs": [
    {
     "name": "stdout",
     "output_type": "stream",
     "text": [
      "mantap\n",
      "keren\n",
      "ganteng\n",
      "siap\n"
     ]
    }
   ],
   "source": [
    "# code here\n",
    "\n",
    "number = 39\n",
    "\n",
    "if number == 10:\n",
    "    print(\"hello\")  #kalo expression nya false, dia ga bakal muncul\n",
    "\n",
    "if number == 39:  # angka ini bisa pake rumus aritmatik (30+9)\n",
    "    print(\"mantap\")\n",
    "    print(\"keren\")\n",
    "    print(\"ganteng\")\n",
    "    print(\"siap\")"
   ]
  },
  {
   "cell_type": "markdown",
   "metadata": {},
   "source": [
    "### if..else"
   ]
  },
  {
   "cell_type": "markdown",
   "metadata": {},
   "source": [
    "syntax yang buat comparison dengan jawaban true atau false\n",
    "\n",
    "Format:\n",
    "```python\n",
    "if <expression>:\n",
    "    <statement when true>\n",
    "else:\n",
    "    <statement when false>\n",
    "```"
   ]
  },
  {
   "cell_type": "code",
   "execution_count": 9,
   "metadata": {},
   "outputs": [
    {
     "name": "stdout",
     "output_type": "stream",
     "text": [
      "True\n"
     ]
    }
   ],
   "source": [
    "# code here\n",
    "\n",
    "numberElse = 20 #statement\n",
    "\n",
    "if numberElse== 20:\n",
    "    print(True)\n",
    "\n",
    "else: \n",
    "    print(False)"
   ]
  },
  {
   "cell_type": "markdown",
   "metadata": {},
   "source": [
    "Format: \n",
    "```python\n",
    "if <expressionA>:\n",
    "    <statement A>\n",
    "elif <expressionB>:\n",
    "    <statement B>\n",
    "else:\n",
    "    <statement C>\n",
    "```"
   ]
  },
  {
   "cell_type": "markdown",
   "metadata": {},
   "source": [
    "### if..elif..else"
   ]
  },
  {
   "cell_type": "markdown",
   "metadata": {},
   "source": [
    "ef elif else buat bikin perbandingan dengan perbandingan banyak pilihan. jika tidak ada, maka jawabannya false. elif bisa dipake banyak."
   ]
  },
  {
   "cell_type": "code",
   "execution_count": 21,
   "metadata": {},
   "outputs": [
    {
     "name": "stdout",
     "output_type": "stream",
     "text": [
      "bener 15\n"
     ]
    }
   ],
   "source": [
    "# code here\n",
    "\n",
    "numberElif = 30\n",
    "\n",
    "if numberElif == 15:\n",
    "    print(True)\n",
    "elif numberElif == 10:\n",
    "    print (\"benar 10\")\n",
    "elif numberElif == 30:\n",
    "    print (\"bener 15\")\n",
    "elif numberElif == 230:\n",
    "    print (\"bener 230\")\n",
    "else:\n",
    "    print (False)\n",
    "\n"
   ]
  },
  {
   "cell_type": "code",
   "execution_count": 44,
   "metadata": {},
   "outputs": [
    {
     "name": "stdout",
     "output_type": "stream",
     "text": [
      "False\n"
     ]
    }
   ],
   "source": [
    "numberElif_2 = 100\n",
    "\n",
    "if numberElif_2 == 15:\n",
    "    print(True)\n",
    "elif numberElif_2 == 10:\n",
    "    print (\"benar 10\")\n",
    "elif numberElif_2 == 30 or numberElif_2== 39:\n",
    "    print (\"bener 15\")\n",
    "elif numberElif_2 != 100:\n",
    "    print (\"bener 230\")\n",
    "else:\n",
    "    print (False)"
   ]
  },
  {
   "cell_type": "markdown",
   "metadata": {},
   "source": [
    "### nested"
   ]
  },
  {
   "cell_type": "markdown",
   "metadata": {},
   "source": [
    "Format:\n",
    "```python\n",
    "if <expression1>:\n",
    "    if <expression2>:\n",
    "        <statement when true>\n",
    "```\n",
    "\n",
    "alternatively, in some cases, we can avoid nested by combining multiple conditions into one expression like this\n",
    "```python\n",
    "# AND\n",
    "if <condition1> and <condition2>:\n",
    "        <statement when true>\n",
    "\n",
    "# OR\n",
    "if <condition1> or <condition2>:\n",
    "        <statement when true>\n",
    "```\n",
    "reference: https://stackoverflow.com/questions/5259938/what-is-better-multiple-if-statements-or-one-if-with-multiple-conditions"
   ]
  },
  {
   "cell_type": "code",
   "execution_count": 13,
   "metadata": {},
   "outputs": [
    {
     "name": "stdout",
     "output_type": "stream",
     "text": [
      "benar\n"
     ]
    }
   ],
   "source": [
    "## code here blm kelar\n",
    "\n",
    "akun = {\n",
    "    'nama' : \"angger\",\n",
    "    'password' : \"ganteng\"\n",
    "}\n",
    "\n",
    "\n",
    "\n",
    "if (akun['nama']) == \"angger\":\n",
    "    if (akun['password']) == 'ganteng':\n",
    "        print('benar')\n",
    "    else:\n",
    "        print(\"password salah\")\n",
    "else:\n",
    "    print(\"nama salah\")\n"
   ]
  },
  {
   "cell_type": "markdown",
   "metadata": {},
   "source": [
    "### ternary operator"
   ]
  },
  {
   "cell_type": "markdown",
   "metadata": {},
   "source": [
    "Format:\n",
    "```python\n",
    "<statement when true> if <expression> else <statement when false>\n",
    "```"
   ]
  },
  {
   "cell_type": "code",
   "execution_count": 51,
   "metadata": {},
   "outputs": [
    {
     "name": "stdout",
     "output_type": "stream",
     "text": [
      "hellow\n"
     ]
    }
   ],
   "source": [
    "# code here\n",
    "namaa = \"angger\"\n",
    "print(\"hellow\") if namaa == \"angger\" else print(\"error\")"
   ]
  },
  {
   "cell_type": "markdown",
   "metadata": {},
   "source": [
    "## Loops"
   ]
  },
  {
   "cell_type": "markdown",
   "metadata": {},
   "source": [
    "### while"
   ]
  },
  {
   "cell_type": "markdown",
   "metadata": {},
   "source": [
    "Format: \n",
    "```python\n",
    "while <expression>:\n",
    "    <body>\n",
    "```"
   ]
  },
  {
   "cell_type": "code",
   "execution_count": 69,
   "metadata": {},
   "outputs": [
    {
     "name": "stdout",
     "output_type": "stream",
     "text": [
      "nama is angger\n"
     ]
    }
   ],
   "source": [
    "# code here\n",
    "\n",
    "whileName = \"angger\"\n",
    "\n",
    "while whileName == \"angger\":\n",
    "    print(f\"nama is {whileName}\")\n",
    "    #bisa ditambahin whileName = whileName + ... (apapun agar bisa mencapai nilai yg diinginkan berhenti kodingnya)\n",
    "    "
   ]
  },
  {
   "cell_type": "markdown",
   "metadata": {},
   "source": [
    "### while..else"
   ]
  },
  {
   "cell_type": "markdown",
   "metadata": {},
   "source": [
    "Format: \n",
    "```python\n",
    "while <expression>:\n",
    "    <statement when true>\n",
    "else:\n",
    "    <statement when false>\n",
    "```"
   ]
  },
  {
   "cell_type": "code",
   "execution_count": 87,
   "metadata": {},
   "outputs": [
    {
     "name": "stdout",
     "output_type": "stream",
     "text": [
      "number is 1\n",
      "number is 2\n",
      "number is 3\n",
      "loop selesai\n"
     ]
    }
   ],
   "source": [
    "# code here  #loop akan selesai jg kode while sudah false (masuk ke else)\n",
    "whileNumber = 1\n",
    "\n",
    "while whileNumber <= 3:\n",
    "    print(f\"number is {whileNumber}\")\n",
    "    whileNumber = whileNumber + 1\n",
    "else:\n",
    "    print(\"loop selesai\")"
   ]
  },
  {
   "cell_type": "code",
   "execution_count": null,
   "metadata": {},
   "outputs": [],
   "source": [
    "# code here"
   ]
  },
  {
   "cell_type": "markdown",
   "metadata": {},
   "source": [
    "### for"
   ]
  },
  {
   "cell_type": "markdown",
   "metadata": {},
   "source": [
    "Format:\n",
    "```python\n",
    "for <var> in <iterable>:\n",
    "    <body>\n",
    "```\n",
    "\n",
    "- an **iterable** is `List`, `Tuple`, or `Dictionary`\n",
    "- a **var** is a variable that will have a value in every loop"
   ]
  },
  {
   "cell_type": "code",
   "execution_count": 90,
   "metadata": {},
   "outputs": [
    {
     "name": "stdout",
     "output_type": "stream",
     "text": [
      "angger\n",
      "rizky\n",
      "firdaus\n"
     ]
    }
   ],
   "source": [
    "# code here\n",
    "# sama kayak while tapi beda. gua jg bingung tapi intinya gitu\n",
    "\n",
    "for nama in [\"angger\",\"rizky\",\"firdaus\"]:\n",
    "    print(nama)"
   ]
  },
  {
   "cell_type": "markdown",
   "metadata": {},
   "source": [
    "### ternary for"
   ]
  },
  {
   "cell_type": "markdown",
   "metadata": {},
   "source": [
    "Format: \n",
    "```python\n",
    "# default\n",
    "[<statement> for <var> in <iterable>]\n",
    "\n",
    "# with expression\n",
    "[<statement> for <var> in <iterable> if <expression>]\n",
    "```"
   ]
  },
  {
   "cell_type": "code",
   "execution_count": 91,
   "metadata": {},
   "outputs": [
    {
     "name": "stdout",
     "output_type": "stream",
     "text": [
      "angger\n",
      "rizky\n",
      "firdaus\n"
     ]
    },
    {
     "data": {
      "text/plain": [
       "[None, None, None]"
      ]
     },
     "execution_count": 91,
     "metadata": {},
     "output_type": "execute_result"
    }
   ],
   "source": [
    "# code here  #syntax horizontal buat for \n",
    "\n",
    "[print(nama) for nama in [\"angger\",\"rizky\",\"firdaus\"] ]"
   ]
  },
  {
   "cell_type": "markdown",
   "metadata": {},
   "source": [
    "### nested loop"
   ]
  },
  {
   "cell_type": "code",
   "execution_count": 93,
   "metadata": {},
   "outputs": [
    {
     "name": "stdout",
     "output_type": "stream",
     "text": [
      "39\n",
      "a\n",
      "c\n",
      "d\n",
      "v\n",
      "r\n",
      "49\n",
      "a\n",
      "c\n",
      "d\n",
      "v\n",
      "r\n",
      "58\n",
      "a\n",
      "c\n",
      "d\n",
      "v\n",
      "r\n",
      "79\n",
      "a\n",
      "c\n",
      "d\n",
      "v\n",
      "r\n",
      "89\n",
      "a\n",
      "c\n",
      "d\n",
      "v\n",
      "r\n"
     ]
    }
   ],
   "source": [
    "# code here looping didalam looping \n",
    "\n",
    "for angcan in [39,49,58,79,89]:\n",
    "    print (angcan)\n",
    "\n",
    "    for namcan in [\"a\",\"c\",\"d\",\"v\",\"r\"]:\n",
    "        print (namcan)"
   ]
  },
  {
   "cell_type": "code",
   "execution_count": 95,
   "metadata": {},
   "outputs": [
    {
     "name": "stdout",
     "output_type": "stream",
     "text": [
      "39  acdvr\n",
      "49  acdvr\n",
      "58  acdvr\n",
      "79  acdvr\n",
      "89  acdvr\n"
     ]
    }
   ],
   "source": [
    "for angcan in [39,49,58,79,89]:\n",
    "    print (angcan, end='  ')\n",
    "\n",
    "    for namcan in [\"a\",\"c\",\"d\",\"v\",\"r\"]:\n",
    "        print (namcan, end='')\n",
    "\n",
    "    print()"
   ]
  },
  {
   "cell_type": "code",
   "execution_count": 10,
   "metadata": {},
   "outputs": [
    {
     "name": "stdout",
     "output_type": "stream",
     "text": [
      "range(0, 1)\n"
     ]
    }
   ],
   "source": [
    "print (range(1))"
   ]
  },
  {
   "cell_type": "code",
   "execution_count": 9,
   "metadata": {},
   "outputs": [
    {
     "name": "stdout",
     "output_type": "stream",
     "text": [
      "1 \n",
      "22 \n",
      "333 \n",
      "4444 \n",
      "55555 \n",
      "666666 \n",
      "7777777 \n",
      "88888888 \n",
      "999999999 \n"
     ]
    }
   ],
   "source": [
    "# for x in [1,2,3,4,5,6]:\n",
    "#     for y in range(x):\n",
    "#         print(y, end='')\n",
    "\n",
    "#     print(' ')\n",
    "\n",
    "#range (2) = (0,1)\n",
    "#jadi si range ini  akan generate sebuah list\n",
    "#range (1) -> [0,1]\n",
    "\n",
    "for x in [1,2,3,4,5,6,7,8,9]:  \n",
    "    for y in range(x):\n",
    "        print(x, end='')\n",
    "\n",
    "    print(' ')"
   ]
  },
  {
   "cell_type": "markdown",
   "metadata": {},
   "source": [
    "### `break` and `continue`"
   ]
  },
  {
   "cell_type": "markdown",
   "metadata": {},
   "source": [
    "- `break`: terminate the loop entirely\n",
    "- `continue`: terminate current process/iteration"
   ]
  },
  {
   "cell_type": "markdown",
   "metadata": {},
   "source": [
    "Example:\n",
    "```python\n",
    "x = 0 # initialize x with 0\n",
    "while True:\n",
    "    x += 1 # increment x with 1 in every iteration\n",
    "    \n",
    "    \"\"\" \n",
    "    here we check x value if it is 3 then \n",
    "    the current iteration will be terminated\n",
    "    \"\"\"\n",
    "    if x == 3:\n",
    "        continue\n",
    "\n",
    "    \"\"\" \n",
    "    here we check x value if it is 5 then \n",
    "    the loop will be terminated\n",
    "    \"\"\"\n",
    "    if x == 5:\n",
    "        break\n",
    "\n",
    "    print(x)\n",
    "```"
   ]
  },
  {
   "cell_type": "code",
   "execution_count": 99,
   "metadata": {},
   "outputs": [
    {
     "name": "stdout",
     "output_type": "stream",
     "text": [
      "39\n",
      "58\n"
     ]
    }
   ],
   "source": [
    "# code here\n",
    "\n",
    "for angcan in [39,49,58,79,89]:\n",
    "    if angcan == 49:\n",
    "        continue\n",
    "\n",
    "    if angcan == 79:\n",
    "        break\n",
    "\n",
    "    print (angcan)\n"
   ]
  },
  {
   "cell_type": "code",
   "execution_count": 15,
   "metadata": {},
   "outputs": [
    {
     "name": "stdout",
     "output_type": "stream",
     "text": [
      "pilih 1,2 aja\n",
      "pilih 1,2 aja\n"
     ]
    }
   ],
   "source": [
    "#Menu mudah\n",
    "\n",
    "while True:\n",
    "    userInput = input(\"pilih menu 1,2,atau 3\")\n",
    "\n",
    "    #jika user input 1\n",
    "    if userInput== \"1\":\n",
    "        print(\"anies\")\n",
    "    elif userInput==\"2\":\n",
    "        print(\"prabowo\")\n",
    "    elif userInput==\"3\":\n",
    "        break\n",
    "    \n",
    "    else:\n",
    "        print(\"pilih 1,2 aja\")"
   ]
  },
  {
   "cell_type": "markdown",
   "metadata": {},
   "source": [
    "## Practice"
   ]
  },
  {
   "cell_type": "markdown",
   "metadata": {},
   "source": [
    "https://colab.research.google.com/github/FTDS-learning-materials/phase-0/blob/main/w1/P0W1D3AM_Conditions_and_Loops.ipynb"
   ]
  },
  {
   "cell_type": "markdown",
   "metadata": {},
   "source": [
    "## Excercise 1"
   ]
  },
  {
   "cell_type": "code",
   "execution_count": 14,
   "metadata": {},
   "outputs": [
    {
     "name": "stdout",
     "output_type": "stream",
     "text": [
      "1 \n",
      "22 \n",
      "333 \n",
      "4444 \n",
      "55555 \n",
      "666666 \n",
      "7777777 \n",
      "88888888 \n",
      "999999999 \n"
     ]
    }
   ],
   "source": [
    "for x in [1,2,3,4,5,6,7,8,9]:  \n",
    "    for y in range(x):\n",
    "        print(x, end='')\n",
    "\n",
    "    print(' ')"
   ]
  },
  {
   "cell_type": "markdown",
   "metadata": {},
   "source": [
    "## Exercise 2"
   ]
  },
  {
   "cell_type": "code",
   "execution_count": 21,
   "metadata": {},
   "outputs": [],
   "source": [
    "while True:\n",
    "    userInput = input(\"pilih menu 1,2,atau 3\")\n",
    "\n",
    "    #jika user input 1\n",
    "    if userInput== \"1\":\n",
    "        print(\"anies\")\n",
    "    elif userInput==\"2\":\n",
    "        print(\"prabowo\")\n",
    "    elif userInput==\"3\":\n",
    "        break\n",
    "\n",
    "    # print(\"pilih 1,2 aja\")\n",
    "\n",
    "while True:\n",
    "    password = input(\"masukin password gan\")\n",
    "\n",
    "\n",
    "# test_list = [chr(x) for x in range(ord('a'), ord('z') + 1)]\n",
    " \n",
    "\n",
    "# print (str(test_list))\n",
    "    "
   ]
  }
 ],
 "metadata": {
  "kernelspec": {
   "display_name": "Python 3",
   "language": "python",
   "name": "python3"
  },
  "language_info": {
   "codemirror_mode": {
    "name": "ipython",
    "version": 3
   },
   "file_extension": ".py",
   "mimetype": "text/x-python",
   "name": "python",
   "nbconvert_exporter": "python",
   "pygments_lexer": "ipython3",
   "version": "3.11.5"
  },
  "orig_nbformat": 4
 },
 "nbformat": 4,
 "nbformat_minor": 2
}
